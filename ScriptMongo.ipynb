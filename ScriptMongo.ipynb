{
 "cells": [
  {
   "cell_type": "code",
   "execution_count": 1,
   "id": "02af6574-71bd-4de3-9440-5d8771b97a18",
   "metadata": {},
   "outputs": [
    {
     "name": "stdout",
     "output_type": "stream",
     "text": [
      "Defaulting to user installation because normal site-packages is not writeable\n",
      "Collecting pymongo\n",
      "  Downloading pymongo-4.8.0-cp311-cp311-win_amd64.whl.metadata (22 kB)\n",
      "Collecting dnspython<3.0.0,>=1.16.0 (from pymongo)\n",
      "  Downloading dnspython-2.6.1-py3-none-any.whl.metadata (5.8 kB)\n",
      "Downloading pymongo-4.8.0-cp311-cp311-win_amd64.whl (630 kB)\n",
      "   ---------------------------------------- 0.0/631.0 kB ? eta -:--:--\n",
      "   - ------------------------------------- 30.7/631.0 kB 660.6 kB/s eta 0:00:01\n",
      "   -- ------------------------------------ 41.0/631.0 kB 495.5 kB/s eta 0:00:02\n",
      "   ------ ------------------------------- 102.4/631.0 kB 737.3 kB/s eta 0:00:01\n",
      "   --------- ---------------------------- 153.6/631.0 kB 833.5 kB/s eta 0:00:01\n",
      "   ---------------- ----------------------- 256.0/631.0 kB 1.1 MB/s eta 0:00:01\n",
      "   ------------------------- -------------- 399.4/631.0 kB 1.5 MB/s eta 0:00:01\n",
      "   --------------------------------- ------ 532.5/631.0 kB 1.7 MB/s eta 0:00:01\n",
      "   ---------------------------------------- 631.0/631.0 kB 1.8 MB/s eta 0:00:00\n",
      "Downloading dnspython-2.6.1-py3-none-any.whl (307 kB)\n",
      "   ---------------------------------------- 0.0/307.7 kB ? eta -:--:--\n",
      "   --------------------- ------------------ 163.8/307.7 kB 5.0 MB/s eta 0:00:01\n",
      "   ---------------------------------------- 307.7/307.7 kB 3.8 MB/s eta 0:00:00\n",
      "Installing collected packages: dnspython, pymongo\n",
      "Successfully installed dnspython-2.6.1 pymongo-4.8.0\n"
     ]
    }
   ],
   "source": [
    "!pip install pymongo"
   ]
  },
  {
   "cell_type": "code",
   "execution_count": 4,
   "id": "44940180-1602-4b16-b04b-9598a3f9327b",
   "metadata": {},
   "outputs": [
    {
     "name": "stdout",
     "output_type": "stream",
     "text": [
      "{'_id': ObjectId('66ba951faaeae7997f7a3c7e'), 'ID': 1, 'Name': 'A Dijiang', 'Sex': 'M', 'Age': 24, 'Height': 180, 'Weight': 80, 'Team': 'China', 'NOC': 'CHN', 'Games': '1992 Summer', 'Year': 1992, 'Season': 'Summer', 'City': 'Barcelona', 'Sport': 'Basketball', 'Event': \"Basketball Men's Basketball\", 'Medal': 'NA'}\n"
     ]
    }
   ],
   "source": [
    "from pymongo import MongoClient\n",
    "client = MongoClient('mongodb://localhost:27017')\n",
    "db = client['ProyectoAnalisis']\n",
    "collection = db['primerDataset']\n",
    "query = {\"Name\": \"A Dijiang\"}\n",
    "resultados = collection.find(query)\n",
    "\n",
    "for documento in resultados:\n",
    "    print(documento)"
   ]
  },
  {
   "cell_type": "code",
   "execution_count": 7,
   "id": "d646e2aa-ee64-42ee-a02f-8e67f1168f98",
   "metadata": {},
   "outputs": [],
   "source": [
    "from pymongo import MongoClient\n",
    "client = MongoClient('mongodb://localhost:27017')\n",
    "db = client['ProyectoAnalisis']\n",
    "collection = db['SEGUNDOTEMADATASETS']\n",
    "query = {\"id\": \"638974\"}\n",
    "resultados = collection.find(query)\n",
    "\n",
    "for documento in resultados:\n",
    "    print(documento)"
   ]
  },
  {
   "cell_type": "code",
   "execution_count": 8,
   "id": "db6a6fd2-e8cf-4125-9d94-9da892fe2995",
   "metadata": {},
   "outputs": [
    {
     "name": "stdout",
     "output_type": "stream",
     "text": [
      "{'_id': ObjectId('66baa9e6aaeae7997f98a83c'), 'region': 'Australia', 'category': 'Historical', 'parameter': 'EV stock share', 'mode': 'Cars', 'powertrain': 'EV', 'year': 2011, 'unit': 'percent', 'value': 0.000390000001062}\n",
      "{'_id': ObjectId('66baa9e6aaeae7997f98a83d'), 'region': 'Australia', 'category': 'Historical', 'parameter': 'EV sales share', 'mode': 'Cars', 'powertrain': 'EV', 'year': 2011, 'unit': 'percent', 'value': 0.00650000013411}\n",
      "{'_id': ObjectId('66baa9e6aaeae7997f98a83e'), 'region': 'Australia', 'category': 'Historical', 'parameter': 'EV sales', 'mode': 'Cars', 'powertrain': 'BEV', 'year': 2011, 'unit': 'Vehicles', 'value': 49}\n",
      "{'_id': ObjectId('66baa9e6aaeae7997f98a83f'), 'region': 'Australia', 'category': 'Historical', 'parameter': 'EV stock', 'mode': 'Cars', 'powertrain': 'BEV', 'year': 2011, 'unit': 'Vehicles', 'value': 49}\n",
      "{'_id': ObjectId('66baa9e6aaeae7997f98a840'), 'region': 'Australia', 'category': 'Historical', 'parameter': 'EV stock', 'mode': 'Cars', 'powertrain': 'BEV', 'year': 2012, 'unit': 'Vehicles', 'value': 220}\n",
      "{'_id': ObjectId('66baa9e6aaeae7997f98a841'), 'region': 'Australia', 'category': 'Historical', 'parameter': 'EV sales', 'mode': 'Cars', 'powertrain': 'BEV', 'year': 2012, 'unit': 'Vehicles', 'value': 170}\n",
      "{'_id': ObjectId('66baa9e6aaeae7997f98a842'), 'region': 'Australia', 'category': 'Historical', 'parameter': 'EV sales share', 'mode': 'Cars', 'powertrain': 'EV', 'year': 2012, 'unit': 'percent', 'value': 0.029999999329448}\n",
      "{'_id': ObjectId('66baa9e6aaeae7997f98a843'), 'region': 'Australia', 'category': 'Historical', 'parameter': 'EV stock share', 'mode': 'Cars', 'powertrain': 'EV', 'year': 2012, 'unit': 'percent', 'value': 0.002400000113994}\n",
      "{'_id': ObjectId('66baa9e6aaeae7997f98a844'), 'region': 'Australia', 'category': 'Historical', 'parameter': 'EV stock', 'mode': 'Cars', 'powertrain': 'PHEV', 'year': 2012, 'unit': 'Vehicles', 'value': 80}\n",
      "{'_id': ObjectId('66baa9e6aaeae7997f98a845'), 'region': 'Australia', 'category': 'Historical', 'parameter': 'EV sales', 'mode': 'Cars', 'powertrain': 'PHEV', 'year': 2012, 'unit': 'Vehicles', 'value': 80}\n",
      "{'_id': ObjectId('66baa9e6aaeae7997f98a846'), 'region': 'Australia', 'category': 'Historical', 'parameter': 'EV sales', 'mode': 'Cars', 'powertrain': 'PHEV', 'year': 2013, 'unit': 'Vehicles', 'value': 100}\n",
      "{'_id': ObjectId('66baa9e6aaeae7997f98a847'), 'region': 'Australia', 'category': 'Historical', 'parameter': 'EV stock', 'mode': 'Cars', 'powertrain': 'PHEV', 'year': 2013, 'unit': 'Vehicles', 'value': 180}\n",
      "{'_id': ObjectId('66baa9e6aaeae7997f98a848'), 'region': 'Australia', 'category': 'Historical', 'parameter': 'EV stock share', 'mode': 'Cars', 'powertrain': 'EV', 'year': 2013, 'unit': 'percent', 'value': 0.004600000102073}\n",
      "{'_id': ObjectId('66baa9e6aaeae7997f98a849'), 'region': 'Australia', 'category': 'Historical', 'parameter': 'EV sales share', 'mode': 'Cars', 'powertrain': 'EV', 'year': 2013, 'unit': 'percent', 'value': 0.034000001847744}\n",
      "{'_id': ObjectId('66baa9e6aaeae7997f98a84a'), 'region': 'Australia', 'category': 'Historical', 'parameter': 'EV sales', 'mode': 'Cars', 'powertrain': 'BEV', 'year': 2013, 'unit': 'Vehicles', 'value': 190}\n",
      "{'_id': ObjectId('66baa9e6aaeae7997f98a84b'), 'region': 'Australia', 'category': 'Historical', 'parameter': 'EV stock', 'mode': 'Cars', 'powertrain': 'BEV', 'year': 2013, 'unit': 'Vehicles', 'value': 410}\n",
      "{'_id': ObjectId('66baa9e6aaeae7997f98a84c'), 'region': 'Australia', 'category': 'Historical', 'parameter': 'EV stock', 'mode': 'Cars', 'powertrain': 'BEV', 'year': 2014, 'unit': 'Vehicles', 'value': 780}\n",
      "{'_id': ObjectId('66baa9e6aaeae7997f98a84d'), 'region': 'Australia', 'category': 'Historical', 'parameter': 'EV sales', 'mode': 'Cars', 'powertrain': 'BEV', 'year': 2014, 'unit': 'Vehicles', 'value': 370}\n",
      "{'_id': ObjectId('66baa9e6aaeae7997f98a84e'), 'region': 'Australia', 'category': 'Historical', 'parameter': 'EV sales share', 'mode': 'Cars', 'powertrain': 'EV', 'year': 2014, 'unit': 'percent', 'value': 0.159999996423721}\n",
      "{'_id': ObjectId('66baa9e6aaeae7997f98a84f'), 'region': 'Australia', 'category': 'Historical', 'parameter': 'EV stock share', 'mode': 'Cars', 'powertrain': 'EV', 'year': 2014, 'unit': 'percent', 'value': 0.014000000432134}\n",
      "{'_id': ObjectId('66baa9e6aaeae7997f98a850'), 'region': 'Australia', 'category': 'Historical', 'parameter': 'EV stock', 'mode': 'Cars', 'powertrain': 'PHEV', 'year': 2014, 'unit': 'Vehicles', 'value': 1100}\n",
      "{'_id': ObjectId('66baa9e6aaeae7997f98a851'), 'region': 'Australia', 'category': 'Historical', 'parameter': 'EV sales', 'mode': 'Cars', 'powertrain': 'PHEV', 'year': 2014, 'unit': 'Vehicles', 'value': 950}\n",
      "{'_id': ObjectId('66baa9e6aaeae7997f98a852'), 'region': 'Australia', 'category': 'Historical', 'parameter': 'EV sales', 'mode': 'Cars', 'powertrain': 'PHEV', 'year': 2015, 'unit': 'Vehicles', 'value': 1000}\n",
      "{'_id': ObjectId('66baa9e6aaeae7997f98a853'), 'region': 'Australia', 'category': 'Historical', 'parameter': 'EV stock', 'mode': 'Cars', 'powertrain': 'PHEV', 'year': 2015, 'unit': 'Vehicles', 'value': 2100}\n",
      "{'_id': ObjectId('66baa9e6aaeae7997f98a854'), 'region': 'Australia', 'category': 'Historical', 'parameter': 'EV stock share', 'mode': 'Cars', 'powertrain': 'EV', 'year': 2015, 'unit': 'percent', 'value': 0.027000000700355}\n",
      "{'_id': ObjectId('66baa9e6aaeae7997f98a855'), 'region': 'Australia', 'category': 'Historical', 'parameter': 'EV sales share', 'mode': 'Cars', 'powertrain': 'EV', 'year': 2015, 'unit': 'percent', 'value': 0.200000002980232}\n",
      "{'_id': ObjectId('66baa9e6aaeae7997f98a856'), 'region': 'Australia', 'category': 'Historical', 'parameter': 'EV sales', 'mode': 'Cars', 'powertrain': 'BEV', 'year': 2015, 'unit': 'Vehicles', 'value': 760}\n",
      "{'_id': ObjectId('66baa9e6aaeae7997f98a857'), 'region': 'Australia', 'category': 'Historical', 'parameter': 'EV stock', 'mode': 'Cars', 'powertrain': 'BEV', 'year': 2015, 'unit': 'Vehicles', 'value': 1500}\n",
      "{'_id': ObjectId('66baa9e6aaeae7997f98a858'), 'region': 'Australia', 'category': 'Historical', 'parameter': 'EV stock', 'mode': 'Cars', 'powertrain': 'BEV', 'year': 2016, 'unit': 'Vehicles', 'value': 2200}\n",
      "{'_id': ObjectId('66baa9e6aaeae7997f98a859'), 'region': 'Australia', 'category': 'Historical', 'parameter': 'EV sales', 'mode': 'Cars', 'powertrain': 'BEV', 'year': 2016, 'unit': 'Vehicles', 'value': 670}\n",
      "{'_id': ObjectId('66baa9e6aaeae7997f98a85a'), 'region': 'Australia', 'category': 'Historical', 'parameter': 'EV sales share', 'mode': 'Cars', 'powertrain': 'EV', 'year': 2016, 'unit': 'percent', 'value': 0.150000005960464}\n",
      "{'_id': ObjectId('66baa9e6aaeae7997f98a85b'), 'region': 'Australia', 'category': 'Historical', 'parameter': 'EV stock share', 'mode': 'Cars', 'powertrain': 'EV', 'year': 2016, 'unit': 'percent', 'value': 0.037000000476837}\n",
      "{'_id': ObjectId('66baa9e6aaeae7997f98a85c'), 'region': 'Australia', 'category': 'Historical', 'parameter': 'EV stock', 'mode': 'Cars', 'powertrain': 'PHEV', 'year': 2016, 'unit': 'Vehicles', 'value': 2800}\n",
      "{'_id': ObjectId('66baa9e6aaeae7997f98a85d'), 'region': 'Australia', 'category': 'Historical', 'parameter': 'EV sales', 'mode': 'Cars', 'powertrain': 'PHEV', 'year': 2016, 'unit': 'Vehicles', 'value': 700}\n",
      "{'_id': ObjectId('66baa9e6aaeae7997f98a85e'), 'region': 'Australia', 'category': 'Historical', 'parameter': 'EV sales', 'mode': 'Cars', 'powertrain': 'PHEV', 'year': 2017, 'unit': 'Vehicles', 'value': 1100}\n",
      "{'_id': ObjectId('66baa9e6aaeae7997f98a85f'), 'region': 'Australia', 'category': 'Historical', 'parameter': 'EV stock', 'mode': 'Cars', 'powertrain': 'PHEV', 'year': 2017, 'unit': 'Vehicles', 'value': 3900}\n",
      "{'_id': ObjectId('66baa9e6aaeae7997f98a860'), 'region': 'Australia', 'category': 'Historical', 'parameter': 'EV stock share', 'mode': 'Cars', 'powertrain': 'EV', 'year': 2017, 'unit': 'percent', 'value': 0.052000001072884}\n",
      "{'_id': ObjectId('66baa9e6aaeae7997f98a861'), 'region': 'Australia', 'category': 'Historical', 'parameter': 'EV sales share', 'mode': 'Cars', 'powertrain': 'EV', 'year': 2017, 'unit': 'percent', 'value': 0.259999990463257}\n",
      "{'_id': ObjectId('66baa9e6aaeae7997f98a862'), 'region': 'Australia', 'category': 'Historical', 'parameter': 'EV charging points', 'mode': 'EV', 'powertrain': 'Publicly available fast', 'year': 2017, 'unit': 'charging points', 'value': 40}\n",
      "{'_id': ObjectId('66baa9e6aaeae7997f98a863'), 'region': 'Australia', 'category': 'Historical', 'parameter': 'EV charging points', 'mode': 'EV', 'powertrain': 'Publicly available slow', 'year': 2017, 'unit': 'charging points', 'value': 440}\n",
      "{'_id': ObjectId('66baa9e6aaeae7997f98a864'), 'region': 'Australia', 'category': 'Historical', 'parameter': 'EV sales', 'mode': 'Cars', 'powertrain': 'BEV', 'year': 2017, 'unit': 'Vehicles', 'value': 1200}\n",
      "{'_id': ObjectId('66baa9e6aaeae7997f98a865'), 'region': 'Australia', 'category': 'Historical', 'parameter': 'EV stock', 'mode': 'Cars', 'powertrain': 'BEV', 'year': 2017, 'unit': 'Vehicles', 'value': 3400}\n",
      "{'_id': ObjectId('66baa9e6aaeae7997f98a866'), 'region': 'Australia', 'category': 'Historical', 'parameter': 'EV stock', 'mode': 'Cars', 'powertrain': 'BEV', 'year': 2018, 'unit': 'Vehicles', 'value': 5200}\n",
      "{'_id': ObjectId('66baa9e6aaeae7997f98a867'), 'region': 'Australia', 'category': 'Historical', 'parameter': 'EV sales', 'mode': 'Cars', 'powertrain': 'BEV', 'year': 2018, 'unit': 'Vehicles', 'value': 1800}\n",
      "{'_id': ObjectId('66baa9e6aaeae7997f98a868'), 'region': 'Australia', 'category': 'Historical', 'parameter': 'EV charging points', 'mode': 'EV', 'powertrain': 'Publicly available fast', 'year': 2018, 'unit': 'charging points', 'value': 61}\n",
      "{'_id': ObjectId('66baa9e6aaeae7997f98a869'), 'region': 'Australia', 'category': 'Historical', 'parameter': 'EV charging points', 'mode': 'EV', 'powertrain': 'Publicly available slow', 'year': 2018, 'unit': 'charging points', 'value': 670}\n",
      "{'_id': ObjectId('66baa9e6aaeae7997f98a86a'), 'region': 'Australia', 'category': 'Historical', 'parameter': 'EV sales share', 'mode': 'Cars', 'powertrain': 'EV', 'year': 2018, 'unit': 'percent', 'value': 0.419999986886978}\n",
      "{'_id': ObjectId('66baa9e6aaeae7997f98a86b'), 'region': 'Australia', 'category': 'Historical', 'parameter': 'EV stock share', 'mode': 'Cars', 'powertrain': 'EV', 'year': 2018, 'unit': 'percent', 'value': 0.076999999582768}\n",
      "{'_id': ObjectId('66baa9e6aaeae7997f98a86c'), 'region': 'Australia', 'category': 'Historical', 'parameter': 'EV stock', 'mode': 'Cars', 'powertrain': 'PHEV', 'year': 2018, 'unit': 'Vehicles', 'value': 5700}\n",
      "{'_id': ObjectId('66baa9e6aaeae7997f98a86d'), 'region': 'Australia', 'category': 'Historical', 'parameter': 'EV sales', 'mode': 'Cars', 'powertrain': 'PHEV', 'year': 2018, 'unit': 'Vehicles', 'value': 1800}\n",
      "{'_id': ObjectId('66baa9e6aaeae7997f98a86e'), 'region': 'Australia', 'category': 'Historical', 'parameter': 'EV sales', 'mode': 'Cars', 'powertrain': 'PHEV', 'year': 2019, 'unit': 'Vehicles', 'value': 2900}\n",
      "{'_id': ObjectId('66baa9e6aaeae7997f98a86f'), 'region': 'Australia', 'category': 'Historical', 'parameter': 'EV stock', 'mode': 'Cars', 'powertrain': 'PHEV', 'year': 2019, 'unit': 'Vehicles', 'value': 8600}\n",
      "{'_id': ObjectId('66baa9e6aaeae7997f98a870'), 'region': 'Australia', 'category': 'Historical', 'parameter': 'EV stock share', 'mode': 'Cars', 'powertrain': 'EV', 'year': 2019, 'unit': 'percent', 'value': 0.140000000596046}\n",
      "{'_id': ObjectId('66baa9e6aaeae7997f98a871'), 'region': 'Australia', 'category': 'Historical', 'parameter': 'EV sales share', 'mode': 'Cars', 'powertrain': 'EV', 'year': 2019, 'unit': 'percent', 'value': 1.20000004768372}\n",
      "{'_id': ObjectId('66baa9e6aaeae7997f98a872'), 'region': 'Australia', 'category': 'Historical', 'parameter': 'EV charging points', 'mode': 'EV', 'powertrain': 'Publicly available slow', 'year': 2019, 'unit': 'charging points', 'value': 1700}\n",
      "{'_id': ObjectId('66baa9e6aaeae7997f98a873'), 'region': 'Australia', 'category': 'Historical', 'parameter': 'EV sales', 'mode': 'Cars', 'powertrain': 'BEV', 'year': 2019, 'unit': 'Vehicles', 'value': 6300}\n",
      "{'_id': ObjectId('66baa9e6aaeae7997f98a874'), 'region': 'Australia', 'category': 'Historical', 'parameter': 'EV stock', 'mode': 'Cars', 'powertrain': 'BEV', 'year': 2019, 'unit': 'Vehicles', 'value': 12000}\n",
      "{'_id': ObjectId('66baa9e6aaeae7997f98a875'), 'region': 'Australia', 'category': 'Historical', 'parameter': 'EV stock', 'mode': 'Cars', 'powertrain': 'BEV', 'year': 2020, 'unit': 'Vehicles', 'value': 17000}\n",
      "{'_id': ObjectId('66baa9e6aaeae7997f98a876'), 'region': 'Australia', 'category': 'Historical', 'parameter': 'EV sales', 'mode': 'Cars', 'powertrain': 'BEV', 'year': 2020, 'unit': 'Vehicles', 'value': 5200}\n",
      "{'_id': ObjectId('66baa9e6aaeae7997f98a877'), 'region': 'Australia', 'category': 'Historical', 'parameter': 'EV charging points', 'mode': 'EV', 'powertrain': 'Publicly available slow', 'year': 2020, 'unit': 'charging points', 'value': 2300}\n",
      "{'_id': ObjectId('66baa9e6aaeae7997f98a878'), 'region': 'Australia', 'category': 'Historical', 'parameter': 'EV sales share', 'mode': 'Cars', 'powertrain': 'EV', 'year': 2020, 'unit': 'percent', 'value': 1.10000002384186}\n",
      "{'_id': ObjectId('66baa9e6aaeae7997f98a879'), 'region': 'Australia', 'category': 'Historical', 'parameter': 'EV stock share', 'mode': 'Cars', 'powertrain': 'EV', 'year': 2020, 'unit': 'percent', 'value': 0.180000007152557}\n",
      "{'_id': ObjectId('66baa9e6aaeae7997f98a87a'), 'region': 'Australia', 'category': 'Historical', 'parameter': 'EV stock', 'mode': 'Cars', 'powertrain': 'PHEV', 'year': 2020, 'unit': 'Vehicles', 'value': 10000}\n",
      "{'_id': ObjectId('66baa9e6aaeae7997f98a87b'), 'region': 'Australia', 'category': 'Historical', 'parameter': 'EV sales', 'mode': 'Cars', 'powertrain': 'PHEV', 'year': 2020, 'unit': 'Vehicles', 'value': 1700}\n",
      "{'_id': ObjectId('66baa9e6aaeae7997f98a87c'), 'region': 'Australia', 'category': 'Historical', 'parameter': 'EV sales', 'mode': 'Cars', 'powertrain': 'PHEV', 'year': 2021, 'unit': 'Vehicles', 'value': 3400}\n",
      "{'_id': ObjectId('66baa9e6aaeae7997f98a87d'), 'region': 'Australia', 'category': 'Historical', 'parameter': 'EV stock', 'mode': 'Cars', 'powertrain': 'PHEV', 'year': 2021, 'unit': 'Vehicles', 'value': 14000}\n",
      "{'_id': ObjectId('66baa9e6aaeae7997f98a87e'), 'region': 'Australia', 'category': 'Historical', 'parameter': 'EV stock', 'mode': 'Cars', 'powertrain': 'FCEV', 'year': 2021, 'unit': 'Vehicles', 'value': 44}\n",
      "{'_id': ObjectId('66baa9e6aaeae7997f98a87f'), 'region': 'Australia', 'category': 'Historical', 'parameter': 'EV stock share', 'mode': 'Cars', 'powertrain': 'EV', 'year': 2021, 'unit': 'percent', 'value': 0.319999992847443}\n",
      "{'_id': ObjectId('66baa9e6aaeae7997f98a880'), 'region': 'Australia', 'category': 'Historical', 'parameter': 'EV sales share', 'mode': 'Cars', 'powertrain': 'EV', 'year': 2021, 'unit': 'percent', 'value': 2.79999995231628}\n",
      "{'_id': ObjectId('66baa9e6aaeae7997f98a881'), 'region': 'Australia', 'category': 'Historical', 'parameter': 'EV charging points', 'mode': 'EV', 'powertrain': 'Publicly available fast', 'year': 2021, 'unit': 'charging points', 'value': 320}\n",
      "{'_id': ObjectId('66baa9e6aaeae7997f98a882'), 'region': 'Australia', 'category': 'Historical', 'parameter': 'EV charging points', 'mode': 'EV', 'powertrain': 'Publicly available slow', 'year': 2021, 'unit': 'charging points', 'value': 2000}\n",
      "{'_id': ObjectId('66baa9e6aaeae7997f98a883'), 'region': 'Australia', 'category': 'Historical', 'parameter': 'EV sales', 'mode': 'Cars', 'powertrain': 'BEV', 'year': 2021, 'unit': 'Vehicles', 'value': 17000}\n",
      "{'_id': ObjectId('66baa9e6aaeae7997f98a884'), 'region': 'Australia', 'category': 'Historical', 'parameter': 'EV stock', 'mode': 'Cars', 'powertrain': 'BEV', 'year': 2021, 'unit': 'Vehicles', 'value': 34000}\n",
      "{'_id': ObjectId('66baa9e6aaeae7997f98a885'), 'region': 'Australia', 'category': 'Historical', 'parameter': 'EV sales', 'mode': 'Cars', 'powertrain': 'FCEV', 'year': 2021, 'unit': 'Vehicles', 'value': 44}\n",
      "{'_id': ObjectId('66baa9e6aaeae7997f98a886'), 'region': 'Australia', 'category': 'Historical', 'parameter': 'EV sales', 'mode': 'Cars', 'powertrain': 'FCEV', 'year': 2022, 'unit': 'Vehicles', 'value': 15}\n",
      "{'_id': ObjectId('66baa9e6aaeae7997f98a887'), 'region': 'Australia', 'category': 'Historical', 'parameter': 'EV stock', 'mode': 'Cars', 'powertrain': 'BEV', 'year': 2022, 'unit': 'Vehicles', 'value': 67000}\n",
      "{'_id': ObjectId('66baa9e6aaeae7997f98a888'), 'region': 'Australia', 'category': 'Historical', 'parameter': 'EV sales', 'mode': 'Cars', 'powertrain': 'BEV', 'year': 2022, 'unit': 'Vehicles', 'value': 33000}\n",
      "{'_id': ObjectId('66baa9e6aaeae7997f98a889'), 'region': 'Australia', 'category': 'Historical', 'parameter': 'EV sales share', 'mode': 'Cars', 'powertrain': 'EV', 'year': 2022, 'unit': 'percent', 'value': 5.09999990463257}\n",
      "{'_id': ObjectId('66baa9e6aaeae7997f98a88a'), 'region': 'Australia', 'category': 'Historical', 'parameter': 'EV stock', 'mode': 'Cars', 'powertrain': 'FCEV', 'year': 2022, 'unit': 'Vehicles', 'value': 100}\n",
      "{'_id': ObjectId('66baa9e6aaeae7997f98a88b'), 'region': 'Australia', 'category': 'Historical', 'parameter': 'EV stock', 'mode': 'Cars', 'powertrain': 'PHEV', 'year': 2022, 'unit': 'Vehicles', 'value': 21000}\n",
      "{'_id': ObjectId('66baa9e6aaeae7997f98a88c'), 'region': 'Australia', 'category': 'Historical', 'parameter': 'EV sales', 'mode': 'Cars', 'powertrain': 'PHEV', 'year': 2022, 'unit': 'Vehicles', 'value': 5900}\n",
      "{'_id': ObjectId('66baa9e6aaeae7997f98a88d'), 'region': 'Australia', 'category': 'Historical', 'parameter': 'EV stock share', 'mode': 'Cars', 'powertrain': 'EV', 'year': 2022, 'unit': 'percent', 'value': 0.589999973773956}\n",
      "{'_id': ObjectId('66baa9e6aaeae7997f98a88e'), 'region': 'Australia', 'category': 'Historical', 'parameter': 'EV charging points', 'mode': 'EV', 'powertrain': 'Publicly available fast', 'year': 2022, 'unit': 'charging points', 'value': 470}\n",
      "{'_id': ObjectId('66baa9e6aaeae7997f98a88f'), 'region': 'Australia', 'category': 'Historical', 'parameter': 'EV charging points', 'mode': 'EV', 'powertrain': 'Publicly available slow', 'year': 2022, 'unit': 'charging points', 'value': 2100}\n",
      "{'_id': ObjectId('66baa9e6aaeae7997f98a890'), 'region': 'Australia', 'category': 'Historical', 'parameter': 'EV charging points', 'mode': 'EV', 'powertrain': 'Publicly available fast', 'year': 2023, 'unit': 'charging points', 'value': 660}\n",
      "{'_id': ObjectId('66baa9e6aaeae7997f98a891'), 'region': 'Australia', 'category': 'Historical', 'parameter': 'EV charging points', 'mode': 'EV', 'powertrain': 'Publicly available slow', 'year': 2023, 'unit': 'charging points', 'value': 2100}\n",
      "{'_id': ObjectId('66baa9e6aaeae7997f98a892'), 'region': 'Australia', 'category': 'Historical', 'parameter': 'EV stock share', 'mode': 'Cars', 'powertrain': 'EV', 'year': 2023, 'unit': 'percent', 'value': 1.20000004768372}\n",
      "{'_id': ObjectId('66baa9e6aaeae7997f98a893'), 'region': 'Australia', 'category': 'Historical', 'parameter': 'EV sales', 'mode': 'Cars', 'powertrain': 'PHEV', 'year': 2023, 'unit': 'Vehicles', 'value': 11000}\n",
      "{'_id': ObjectId('66baa9e6aaeae7997f98a894'), 'region': 'Australia', 'category': 'Historical', 'parameter': 'EV stock', 'mode': 'Cars', 'powertrain': 'PHEV', 'year': 2023, 'unit': 'Vehicles', 'value': 31000}\n",
      "{'_id': ObjectId('66baa9e6aaeae7997f98a895'), 'region': 'Australia', 'category': 'Historical', 'parameter': 'EV stock', 'mode': 'Cars', 'powertrain': 'FCEV', 'year': 2023, 'unit': 'Vehicles', 'value': 65}\n",
      "{'_id': ObjectId('66baa9e6aaeae7997f98a896'), 'region': 'Australia', 'category': 'Historical', 'parameter': 'EV sales share', 'mode': 'Cars', 'powertrain': 'EV', 'year': 2023, 'unit': 'percent', 'value': 12}\n",
      "{'_id': ObjectId('66baa9e6aaeae7997f98a897'), 'region': 'Australia', 'category': 'Historical', 'parameter': 'EV sales', 'mode': 'Cars', 'powertrain': 'BEV', 'year': 2023, 'unit': 'Vehicles', 'value': 87000}\n",
      "{'_id': ObjectId('66baa9e6aaeae7997f98a898'), 'region': 'Australia', 'category': 'Historical', 'parameter': 'EV stock', 'mode': 'Cars', 'powertrain': 'BEV', 'year': 2023, 'unit': 'Vehicles', 'value': 150000}\n",
      "{'_id': ObjectId('66baa9e6aaeae7997f98a899'), 'region': 'Australia', 'category': 'Historical', 'parameter': 'EV sales', 'mode': 'Cars', 'powertrain': 'FCEV', 'year': 2023, 'unit': 'Vehicles', 'value': 6}\n"
     ]
    }
   ],
   "source": [
    "from pymongo import MongoClient\n",
    "client = MongoClient('mongodb://localhost:27017')\n",
    "db = client['ProyectoAnalisis']\n",
    "collection = db['TERCERTEMADATASETS']\n",
    "query = {\"region\": \"Australia\"}\n",
    "resultados = collection.find(query)\n",
    "\n",
    "for documento in resultados:\n",
    "    print(documento)"
   ]
  },
  {
   "cell_type": "code",
   "execution_count": 9,
   "id": "53b98430-f60d-47f8-8a63-0c80f4354837",
   "metadata": {},
   "outputs": [
    {
     "name": "stdout",
     "output_type": "stream",
     "text": [
      "{'_id': ObjectId('66baad7caaeae7997f9ae929'), 'title': 'Ukraine: Angry Zelensky vows to punish Russian atrocities', 'pubDate': 'Mon, 07 Mar 2022 08:01:56 GMT', 'guid': 'https://www.bbc.co.uk/news/world-europe-60638042', 'link': 'https://www.bbc.co.uk/news/world-europe-60638042?at_medium=RSS&at_campaign=KARANGA', 'description': 'The Ukrainian president says the country will not forgive or forget those who murder its civilians.'}\n"
     ]
    }
   ],
   "source": [
    "\n",
    "from pymongo import MongoClient\n",
    "client = MongoClient('mongodb://localhost:27017')\n",
    "db = client['ProyectoAnalisis']\n",
    "collection = db['CUARTOTEMADATASETS']\n",
    "query = {\"title\": \"Ukraine: Angry Zelensky vows to punish Russian atrocities\"}\n",
    "resultados = collection.find(query)\n",
    "for documento in resultados:\n",
    "    print(documento)"
   ]
  },
  {
   "cell_type": "code",
   "execution_count": 10,
   "id": "0f850e69-2ac1-42d2-9dcb-ea8a727ee545",
   "metadata": {},
   "outputs": [
    {
     "name": "stdout",
     "output_type": "stream",
     "text": [
      "{'_id': ObjectId('66baae98aaeae7997f9b852c'), 'Rank': 1, 'Restaurant': 'Evergreens', 'Location': 'Seattle, Wash.', 'Sales': 24, 'YOY_Sales': '130.5%', 'Units': 26, 'YOY_Units': '116.7%', 'Unit_Volume': 1150, 'Franchising': 'No'}\n"
     ]
    }
   ],
   "source": [
    "\n",
    "from pymongo import MongoClient\n",
    "client = MongoClient('mongodb://localhost:27017')\n",
    "db = client['ProyectoAnalisis']\n",
    "collection = db['QUINTODATASETS']\n",
    "query = {\"Location\": \"Seattle, Wash.\"}\n",
    "resultados = collection.find(query)\n",
    "for documento in resultados:\n",
    "    print(documento)"
   ]
  }
 ],
 "metadata": {
  "kernelspec": {
   "display_name": "Python 3 (ipykernel)",
   "language": "python",
   "name": "python3"
  },
  "language_info": {
   "codemirror_mode": {
    "name": "ipython",
    "version": 3
   },
   "file_extension": ".py",
   "mimetype": "text/x-python",
   "name": "python",
   "nbconvert_exporter": "python",
   "pygments_lexer": "ipython3",
   "version": "3.11.7"
  }
 },
 "nbformat": 4,
 "nbformat_minor": 5
}
