{
 "cells": [
  {
   "cell_type": "code",
   "execution_count": null,
   "id": "2504dc8e-68e3-483f-b8f3-83df96fe69a5",
   "metadata": {},
   "outputs": [],
   "source": [
    "import pandas as pd\n",
    "import mysql.connector\n",
    "\n",
    "\n",
    "db_connection = mysql.connector.connect(\n",
    "    host=\"localhost\",\n",
    "    user=\"root\",\n",
    "    password=\"2004\",\n",
    "    database=\"ANALISIS\"\n",
    ")\n",
    "cursor = db_connection.cursor()\n",
    "\n",
    "df = pd.read_csv(r'C:\\Users\\stefi\\Downloads\\athlete_events.csv')\n",
    "\n",
    "\n",
    "insert_query = \"\"\"\n",
    "INSERT INTO ATLETEAS (name, sex, age, height, weight, team, noc, games, year, season, city, sport, event, medal)\n",
    "VALUES (%s, %s, %s, %s, %s, %s, %s, %s, %s, %s, %s, %s, %s, %s)\n",
    "\"\"\"\n",
    "\n",
    "for i, row in df.iterrows():\n",
    "    cursor.execute(insert_query, (\n",
    "        row['Name'], \n",
    "        row['Sex'], \n",
    "        row['Age'], \n",
    "        row['Height'], \n",
    "        row['Weight'], \n",
    "        row['Team'], \n",
    "        row['NOC'], \n",
    "        row['Games'], \n",
    "        row['Year'], \n",
    "        row['Season'], \n",
    "        row['City'], \n",
    "        row['Sport'], \n",
    "        row['Event'], \n",
    "        row['Medal']\n",
    "    ))\n",
    "\n",
    "db_connection.commit()\n",
    "\n"
   ]
  }
 ],
 "metadata": {
  "kernelspec": {
   "display_name": "Python 3 (ipykernel)",
   "language": "python",
   "name": "python3"
  },
  "language_info": {
   "codemirror_mode": {
    "name": "ipython",
    "version": 3
   },
   "file_extension": ".py",
   "mimetype": "text/x-python",
   "name": "python",
   "nbconvert_exporter": "python",
   "pygments_lexer": "ipython3",
   "version": "3.11.7"
  }
 },
 "nbformat": 4,
 "nbformat_minor": 5
}
